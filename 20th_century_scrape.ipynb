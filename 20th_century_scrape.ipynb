{
 "cells": [
  {
   "cell_type": "markdown",
   "id": "54b65ac3-7d92-494f-8b55-8582f02e9e01",
   "metadata": {},
   "source": [
    "## Exercise 1.4 Accessing Web Data with Data Scraping"
   ]
  },
  {
   "cell_type": "markdown",
   "id": "3d7976ed-8bc9-4a0a-8637-72ffe8d46ce6",
   "metadata": {},
   "source": [
    "### 20th_century_scrape"
   ]
  },
  {
   "cell_type": "code",
   "execution_count": 68,
   "id": "015b5d04-8acc-4204-8472-8f8a692d3598",
   "metadata": {},
   "outputs": [],
   "source": [
    "# Import libraries\n",
    "import pandas as pd\n",
    "import time\n",
    "from selenium import webdriver\n",
    "from webdriver_manager.chrome import ChromeDriverManager\n",
    "from selenium.webdriver.common.by import By\n",
    "from selenium.webdriver.chrome.service import Service\n",
    "from selenium.webdriver.chrome.options import Options\n",
    "import matplotlib.pyplot as plt\n",
    "import os\n",
    "import logging\n",
    "import requests\n",
    "import bs4\n",
    "from bs4 import BeautifulSoup"
   ]
  },
  {
   "cell_type": "code",
   "execution_count": 53,
   "id": "a394f713-20d8-4138-8cbc-15bcc9b12b1a",
   "metadata": {},
   "outputs": [],
   "source": [
    "# Set up the Chrome service using the ChromeDriverManager\n",
    "service = Service(ChromeDriverManager().install())\n",
    "options = Options()\n",
    "\n",
    "# Initialize the WebDriver with the service and options\n",
    "driver = webdriver.Chrome(service=service, options=options)\n"
   ]
  },
  {
   "cell_type": "code",
   "execution_count": 55,
   "id": "d894917f-4011-48b1-91f1-4def45d32fe3",
   "metadata": {},
   "outputs": [],
   "source": [
    "# Get the page´s content\n",
    "page_url = \"https://en.wikipedia.org/wiki/Key_events_of_the_20th_century\"\n",
    "driver.get(page_url)"
   ]
  },
  {
   "cell_type": "code",
   "execution_count": 74,
   "id": "402eb2c1-1a4a-46a5-9a4e-a5e4b1ce03a4",
   "metadata": {},
   "outputs": [],
   "source": [
    "# Parse the page content with BeautifulSoup using driver.page_source\n",
    "soup = BeautifulSoup(driver.page_source, 'html.parser')\n",
    "    \n",
    "# Locate the main content container on Wikipedia page\n",
    "content_div = soup.find('div', class_='mw-parser-output')"
   ]
  },
  {
   "cell_type": "code",
   "execution_count": 80,
   "id": "09540e46-a693-48e5-b5aa-1b11f6c2a4f9",
   "metadata": {},
   "outputs": [
    {
     "name": "stdout",
     "output_type": "stream",
     "text": [
      "Content has been saved to 'key_events_20th_century.txt'\n"
     ]
    }
   ],
   "source": [
    "# Extract text from the content container\n",
    "if content_div:\n",
    "    page_text = content_div.get_text(separator='\\n').strip()  # Separates sections by newlines for readability\n",
    "    \n",
    "    # Save the content to a text file for easy access later\n",
    "    with open(\"key_events_20th_century.txt\", \"w\", encoding=\"utf-8\") as file:\n",
    "        file.write(page_text)\n",
    "        print(\"Content has been saved to 'key_events_20th_century.txt'\")\n",
    "else:\n",
    "    print(\"Could not find the main content container.\")"
   ]
  },
  {
   "cell_type": "code",
   "execution_count": 85,
   "id": "ec9b41ca-7d64-4414-a34e-5860fcd91973",
   "metadata": {},
   "outputs": [],
   "source": [
    "# Close the WebDriver\n",
    "driver.quit()"
   ]
  },
  {
   "cell_type": "code",
   "execution_count": null,
   "id": "2f8e0043-058e-4281-94c5-cd010e995e91",
   "metadata": {},
   "outputs": [],
   "source": []
  }
 ],
 "metadata": {
  "kernelspec": {
   "display_name": "Python [conda env:20th_century]",
   "language": "python",
   "name": "conda-env-20th_century-py"
  },
  "language_info": {
   "codemirror_mode": {
    "name": "ipython",
    "version": 3
   },
   "file_extension": ".py",
   "mimetype": "text/x-python",
   "name": "python",
   "nbconvert_exporter": "python",
   "pygments_lexer": "ipython3",
   "version": "3.12.7"
  }
 },
 "nbformat": 4,
 "nbformat_minor": 5
}
