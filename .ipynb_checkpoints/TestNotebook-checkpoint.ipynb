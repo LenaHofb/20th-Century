{
 "cells": [
  {
   "cell_type": "markdown",
   "id": "db46f634-7e9e-4eb1-8358-42915aeb6d0a",
   "metadata": {},
   "source": [
    "## Exercise 1.2 Century Test Notebook"
   ]
  },
  {
   "cell_type": "code",
   "execution_count": 3,
   "id": "def0e31e-4e6f-4570-beba-1406a3be4409",
   "metadata": {},
   "outputs": [
    {
     "name": "stdout",
     "output_type": "stream",
     "text": [
      "1 + 1 = 2\n",
      "Squares of numbers 0-9: [0, 1, 4, 9, 16, 25, 36, 49, 64, 81]\n"
     ]
    }
   ],
   "source": [
    "# Basic Math Operation\n",
    "result = 1 + 1\n",
    "print(\"1 + 1 =\", result)\n",
    "\n",
    "# List Comprehension Example\n",
    "squares = [x**2 for x in range(10)]\n",
    "print(\"Squares of numbers 0-9:\", squares)\n"
   ]
  },
  {
   "cell_type": "code",
   "execution_count": null,
   "id": "ce986e0f-7f1f-4d3a-a5d0-826f4406c0bb",
   "metadata": {},
   "outputs": [],
   "source": []
  }
 ],
 "metadata": {
  "kernelspec": {
   "display_name": "Python 3 (ipykernel)",
   "language": "python",
   "name": "python3"
  },
  "language_info": {
   "codemirror_mode": {
    "name": "ipython",
    "version": 3
   },
   "file_extension": ".py",
   "mimetype": "text/x-python",
   "name": "python",
   "nbconvert_exporter": "python",
   "pygments_lexer": "ipython3",
   "version": "3.12.4"
  }
 },
 "nbformat": 4,
 "nbformat_minor": 5
}
